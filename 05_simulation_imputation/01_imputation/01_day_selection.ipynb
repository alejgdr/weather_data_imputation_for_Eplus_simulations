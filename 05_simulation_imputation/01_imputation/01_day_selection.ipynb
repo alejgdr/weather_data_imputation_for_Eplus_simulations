{
 "cells": [
  {
   "cell_type": "code",
   "execution_count": 1,
   "id": "dd217af2",
   "metadata": {},
   "outputs": [],
   "source": [
    "import pandas as pd\n",
    "import matplotlib.pyplot as plt\n",
    "import calplot\n",
    "import numpy as np\n",
    "import impute as imp"
   ]
  },
  {
   "cell_type": "markdown",
   "id": "5ea6a801",
   "metadata": {},
   "source": [
    "## Verifying the dataset"
   ]
  },
  {
   "cell_type": "code",
   "execution_count": 2,
   "id": "2417b582",
   "metadata": {},
   "outputs": [],
   "source": [
    "tmx=pd.read_csv('../../01_weather_data/01_raw_data/Temixco_2018_N006c.csv',index_col=0,parse_dates=True)\n"
   ]
  },
  {
   "cell_type": "code",
   "execution_count": 3,
   "id": "d2edcf7e",
   "metadata": {},
   "outputs": [
    {
     "data": {
      "text/html": [
       "<div>\n",
       "<style scoped>\n",
       "    .dataframe tbody tr th:only-of-type {\n",
       "        vertical-align: middle;\n",
       "    }\n",
       "\n",
       "    .dataframe tbody tr th {\n",
       "        vertical-align: top;\n",
       "    }\n",
       "\n",
       "    .dataframe thead th {\n",
       "        text-align: right;\n",
       "    }\n",
       "</style>\n",
       "<table border=\"1\" class=\"dataframe\">\n",
       "  <thead>\n",
       "    <tr style=\"text-align: right;\">\n",
       "      <th></th>\n",
       "      <th>Ib</th>\n",
       "      <th>Ig</th>\n",
       "      <th>To</th>\n",
       "      <th>RH</th>\n",
       "      <th>WS</th>\n",
       "      <th>WD</th>\n",
       "      <th>P</th>\n",
       "    </tr>\n",
       "    <tr>\n",
       "      <th>time</th>\n",
       "      <th></th>\n",
       "      <th></th>\n",
       "      <th></th>\n",
       "      <th></th>\n",
       "      <th></th>\n",
       "      <th></th>\n",
       "      <th></th>\n",
       "    </tr>\n",
       "  </thead>\n",
       "  <tbody>\n",
       "    <tr>\n",
       "      <th>2018-01-01 00:00:00</th>\n",
       "      <td>NaN</td>\n",
       "      <td>NaN</td>\n",
       "      <td>18.70</td>\n",
       "      <td>36.34</td>\n",
       "      <td>1.422</td>\n",
       "      <td>316.0</td>\n",
       "      <td>87864.11</td>\n",
       "    </tr>\n",
       "    <tr>\n",
       "      <th>2018-01-01 00:10:00</th>\n",
       "      <td>0.002</td>\n",
       "      <td>0.0</td>\n",
       "      <td>18.95</td>\n",
       "      <td>35.29</td>\n",
       "      <td>1.008</td>\n",
       "      <td>283.7</td>\n",
       "      <td>87876.37</td>\n",
       "    </tr>\n",
       "    <tr>\n",
       "      <th>2018-01-01 00:20:00</th>\n",
       "      <td>0.170</td>\n",
       "      <td>0.0</td>\n",
       "      <td>18.94</td>\n",
       "      <td>35.43</td>\n",
       "      <td>1.565</td>\n",
       "      <td>326.0</td>\n",
       "      <td>87888.64</td>\n",
       "    </tr>\n",
       "    <tr>\n",
       "      <th>2018-01-01 00:30:00</th>\n",
       "      <td>0.371</td>\n",
       "      <td>0.0</td>\n",
       "      <td>18.77</td>\n",
       "      <td>35.89</td>\n",
       "      <td>2.175</td>\n",
       "      <td>354.5</td>\n",
       "      <td>87887.21</td>\n",
       "    </tr>\n",
       "    <tr>\n",
       "      <th>2018-01-01 00:40:00</th>\n",
       "      <td>0.305</td>\n",
       "      <td>0.0</td>\n",
       "      <td>18.81</td>\n",
       "      <td>36.34</td>\n",
       "      <td>1.902</td>\n",
       "      <td>348.0</td>\n",
       "      <td>87886.91</td>\n",
       "    </tr>\n",
       "    <tr>\n",
       "      <th>...</th>\n",
       "      <td>...</td>\n",
       "      <td>...</td>\n",
       "      <td>...</td>\n",
       "      <td>...</td>\n",
       "      <td>...</td>\n",
       "      <td>...</td>\n",
       "      <td>...</td>\n",
       "    </tr>\n",
       "    <tr>\n",
       "      <th>2018-12-31 23:10:00</th>\n",
       "      <td>0.125</td>\n",
       "      <td>0.0</td>\n",
       "      <td>18.51</td>\n",
       "      <td>47.29</td>\n",
       "      <td>1.715</td>\n",
       "      <td>332.2</td>\n",
       "      <td>87484.32</td>\n",
       "    </tr>\n",
       "    <tr>\n",
       "      <th>2018-12-31 23:20:00</th>\n",
       "      <td>0.000</td>\n",
       "      <td>0.0</td>\n",
       "      <td>18.26</td>\n",
       "      <td>48.02</td>\n",
       "      <td>1.703</td>\n",
       "      <td>320.5</td>\n",
       "      <td>87470.70</td>\n",
       "    </tr>\n",
       "    <tr>\n",
       "      <th>2018-12-31 23:30:00</th>\n",
       "      <td>0.044</td>\n",
       "      <td>0.0</td>\n",
       "      <td>18.39</td>\n",
       "      <td>46.84</td>\n",
       "      <td>2.887</td>\n",
       "      <td>335.7</td>\n",
       "      <td>87455.03</td>\n",
       "    </tr>\n",
       "    <tr>\n",
       "      <th>2018-12-31 23:40:00</th>\n",
       "      <td>0.170</td>\n",
       "      <td>0.0</td>\n",
       "      <td>17.99</td>\n",
       "      <td>47.85</td>\n",
       "      <td>1.528</td>\n",
       "      <td>358.8</td>\n",
       "      <td>87470.02</td>\n",
       "    </tr>\n",
       "    <tr>\n",
       "      <th>2018-12-31 23:50:00</th>\n",
       "      <td>0.003</td>\n",
       "      <td>0.0</td>\n",
       "      <td>17.75</td>\n",
       "      <td>49.65</td>\n",
       "      <td>0.598</td>\n",
       "      <td>322.3</td>\n",
       "      <td>87467.29</td>\n",
       "    </tr>\n",
       "  </tbody>\n",
       "</table>\n",
       "<p>52560 rows × 7 columns</p>\n",
       "</div>"
      ],
      "text/plain": [
       "                        Ib   Ig     To     RH     WS     WD         P\n",
       "time                                                                 \n",
       "2018-01-01 00:00:00    NaN  NaN  18.70  36.34  1.422  316.0  87864.11\n",
       "2018-01-01 00:10:00  0.002  0.0  18.95  35.29  1.008  283.7  87876.37\n",
       "2018-01-01 00:20:00  0.170  0.0  18.94  35.43  1.565  326.0  87888.64\n",
       "2018-01-01 00:30:00  0.371  0.0  18.77  35.89  2.175  354.5  87887.21\n",
       "2018-01-01 00:40:00  0.305  0.0  18.81  36.34  1.902  348.0  87886.91\n",
       "...                    ...  ...    ...    ...    ...    ...       ...\n",
       "2018-12-31 23:10:00  0.125  0.0  18.51  47.29  1.715  332.2  87484.32\n",
       "2018-12-31 23:20:00  0.000  0.0  18.26  48.02  1.703  320.5  87470.70\n",
       "2018-12-31 23:30:00  0.044  0.0  18.39  46.84  2.887  335.7  87455.03\n",
       "2018-12-31 23:40:00  0.170  0.0  17.99  47.85  1.528  358.8  87470.02\n",
       "2018-12-31 23:50:00  0.003  0.0  17.75  49.65  0.598  322.3  87467.29\n",
       "\n",
       "[52560 rows x 7 columns]"
      ]
     },
     "execution_count": 3,
     "metadata": {},
     "output_type": "execute_result"
    }
   ],
   "source": [
    "tmx"
   ]
  },
  {
   "cell_type": "code",
   "execution_count": 4,
   "id": "c87d7253",
   "metadata": {},
   "outputs": [
    {
     "data": {
      "text/plain": [
       "Text(0.5, 1.0, 'Daily solar Energy')"
      ]
     },
     "execution_count": 4,
     "metadata": {},
     "output_type": "execute_result"
    },
    {
     "data": {
      "image/png": "[encoded data removed]",
      "text/plain": [
       "<Figure size 900x122.4 with 2 Axes>"
      ]
     },
     "metadata": {
      "needs_background": "light"
     },
     "output_type": "display_data"
    }
   ],
   "source": [
    "tmx['Eg']=tmx['Ig']/6\n",
    "tmx_d=tmx.resample('D').sum()\n",
    "calplot.calplot(tmx_d['Eg'],cmap='jet',how='sum',edgecolor='black',linewidth=1.5)\n",
    "plt.title('Daily solar Energy',fontsize=19)"
   ]
  },
  {
   "cell_type": "markdown",
   "id": "c36dd547",
   "metadata": {},
   "source": [
    "## Pasting 02-June to 01-June"
   ]
  },
  {
   "cell_type": "code",
   "execution_count": 5,
   "id": "fa259228",
   "metadata": {},
   "outputs": [
    {
     "data": {
      "text/plain": [
       "[<matplotlib.lines.Line2D at 0x112f4ef40>]"
      ]
     },
     "execution_count": 5,
     "metadata": {},
     "output_type": "execute_result"
    },
    {
     "data": {
      "image/png": "[encoded data removed]",
      "text/plain": [
       "<Figure size 432x288 with 1 Axes>"
      ]
     },
     "metadata": {
      "needs_background": "light"
     },
     "output_type": "display_data"
    }
   ],
   "source": [
    "plt.plot(tmx.Ig.loc['2018-06-01'],'r.')"
   ]
  },
  {
   "cell_type": "code",
   "execution_count": 6,
   "id": "e9686876",
   "metadata": {},
   "outputs": [
    {
     "data": {
      "text/plain": [
       "[<matplotlib.lines.Line2D at 0x112fc5d00>]"
      ]
     },
     "execution_count": 6,
     "metadata": {},
     "output_type": "execute_result"
    },
    {
     "data": {
      "image/png": "[encoded data removed]",
      "text/plain": [
       "<Figure size 432x288 with 1 Axes>"
      ]
     },
     "metadata": {
      "needs_background": "light"
     },
     "output_type": "display_data"
    }
   ],
   "source": [
    "tmx_2=tmx.copy()\n",
    "tmx['2018-06-01 00:00':'2018-06-02 00:00']=tmx_2['2018-06-02 00:00':'2018-06-03 00:00']\n",
    "plt.plot(tmx.Ig.loc['2018-06-01'],'r.')\n",
    "# Sustituir todas las variables"
   ]
  },
  {
   "cell_type": "code",
   "execution_count": 7,
   "id": "e03ea818",
   "metadata": {},
   "outputs": [
    {
     "data": {
      "text/plain": [
       "Text(0.5, 1.0, 'Daily solar Energy')"
      ]
     },
     "execution_count": 7,
     "metadata": {},
     "output_type": "execute_result"
    },
    {
     "data": {
      "image/png": "[encoded data removed]",
      "text/plain": [
       "<Figure size 900x122.4 with 2 Axes>"
      ]
     },
     "metadata": {
      "needs_background": "light"
     },
     "output_type": "display_data"
    }
   ],
   "source": [
    "tmx['Eg']=tmx['Ig']/6\n",
    "tmx_d=tmx.resample('D').sum()\n",
    "tmx.fillna(0,inplace=True)\n",
    "calplot.calplot(tmx_d['Eg'],cmap='jet',how='sum',edgecolor='black',linewidth=1.5)\n",
    "plt.title('Daily solar Energy',fontsize=19)"
   ]
  },
  {
   "cell_type": "code",
   "execution_count": 8,
   "id": "9488d582",
   "metadata": {},
   "outputs": [],
   "source": [
    "def maxmin_season(dailydf,fecha1,fecha2):\n",
    "    df=dailydf.loc[fecha1:fecha2]\n",
    "    dfmax=df.Eg.idxmax()\n",
    "    dfmin=df.Eg.idxmin()\n",
    "    print('dia_maximo:',dfmax)\n",
    "    print('dia_minimo:',dfmin)"
   ]
  },
  {
   "cell_type": "markdown",
   "id": "c5b457c6",
   "metadata": {},
   "source": [
    "### Season 1 January:March"
   ]
  },
  {
   "cell_type": "code",
   "execution_count": 9,
   "id": "354a4918",
   "metadata": {
    "scrolled": true
   },
   "outputs": [
    {
     "name": "stdout",
     "output_type": "stream",
     "text": [
      "dia_maximo: 2018-03-29 00:00:00\n",
      "dia_minimo: 2018-01-30 00:00:00\n"
     ]
    }
   ],
   "source": [
    "season1='2018-01-01'\n",
    "season1e='2018-03-31'\n",
    "imp.maxmin_season(tmx_d,season1,season1e)"
   ]
  },
  {
   "cell_type": "markdown",
   "id": "5b65ae2b",
   "metadata": {},
   "source": [
    "### Season 2 Apr:Jun"
   ]
  },
  {
   "cell_type": "code",
   "execution_count": 10,
   "id": "83fe0e47",
   "metadata": {},
   "outputs": [
    {
     "name": "stdout",
     "output_type": "stream",
     "text": [
      "dia_maximo: 2018-06-27 00:00:00\n",
      "dia_minimo: 2018-06-15 00:00:00\n"
     ]
    }
   ],
   "source": [
    "season2='2018-04-01'\n",
    "season2e='2018-06-30'\n",
    "imp.maxmin_season(tmx_d,season2,season2e)"
   ]
  },
  {
   "cell_type": "markdown",
   "id": "91634a8a",
   "metadata": {},
   "source": [
    "### Season 3 Jul:Sept"
   ]
  },
  {
   "cell_type": "code",
   "execution_count": 11,
   "id": "2eef91f1",
   "metadata": {
    "scrolled": true
   },
   "outputs": [
    {
     "name": "stdout",
     "output_type": "stream",
     "text": [
      "dia_maximo: 2018-07-28 00:00:00\n",
      "dia_minimo: 2018-08-12 00:00:00\n"
     ]
    }
   ],
   "source": [
    "season1='2018-07-01'\n",
    "season1e='2018-09-30'\n",
    "imp.maxmin_season(tmx_d,season1,season1e)"
   ]
  },
  {
   "cell_type": "markdown",
   "id": "a6952500",
   "metadata": {},
   "source": [
    "### Season 4 Oct:Dec"
   ]
  },
  {
   "cell_type": "code",
   "execution_count": 12,
   "id": "6e07be0d",
   "metadata": {},
   "outputs": [
    {
     "name": "stdout",
     "output_type": "stream",
     "text": [
      "dia_maximo: 2018-10-05 00:00:00\n",
      "dia_minimo: 2018-11-14 00:00:00\n"
     ]
    }
   ],
   "source": [
    "season1='2018-10-01'\n",
    "season1e='2018-12-31'\n",
    "imp.maxmin_season(tmx_d,season1,season1e)"
   ]
  },
  {
   "cell_type": "markdown",
   "id": "3513e0c3",
   "metadata": {},
   "source": [
    "## Exporting 2018 complete year "
   ]
  },
  {
   "cell_type": "code",
   "execution_count": 13,
   "id": "4d4e9af7",
   "metadata": {},
   "outputs": [],
   "source": [
    "tmx.to_csv('../../01_weather_data/03_imputing_process/01_test_data/base_temixco.csv')"
   ]
  },
  {
   "cell_type": "markdown",
   "id": "025a47be",
   "metadata": {},
   "source": [
    "# Deleting the min and max radiation days of each season "
   ]
  },
  {
   "cell_type": "code",
   "execution_count": 14,
   "id": "bce2b12b",
   "metadata": {},
   "outputs": [
    {
     "name": "stdout",
     "output_type": "stream",
     "text": [
      "Deleted days:\n",
      "2018-03-29\n",
      "2018-01-30\n",
      "2018-06-27\n",
      "2018-06-15\n",
      "2018-07-28\n",
      "2018-08-12\n",
      "2018-10-05\n",
      "2018-11-14\n"
     ]
    }
   ],
   "source": [
    "days=['2018-03-29','2018-01-30','2018-06-27','2018-06-15','2018-07-28','2018-08-12','2018-10-05','2018-11-14']\n",
    "print('Deleted days:')\n",
    "for x in days:\n",
    "    imp.deleting_days(tmx.Ig,x)\n",
    "    print(x)\n",
    "    "
   ]
  },
  {
   "cell_type": "code",
   "execution_count": 15,
   "id": "340bb31f",
   "metadata": {},
   "outputs": [
    {
     "data": {
      "text/plain": [
       "(<Figure size 900x122.4 with 2 Axes>,\n",
       " array([<AxesSubplot:ylabel='2018'>], dtype=object))"
      ]
     },
     "execution_count": 15,
     "metadata": {},
     "output_type": "execute_result"
    },
    {
     "data": {
      "image/png": "[encoded data removed]",
      "text/plain": [
       "<Figure size 900x122.4 with 2 Axes>"
      ]
     },
     "metadata": {
      "needs_background": "light"
     },
     "output_type": "display_data"
    }
   ],
   "source": [
    "\n",
    "calplot.calplot(tmx.Ig,cmap='jet',how='mean')"
   ]
  },
  {
   "cell_type": "markdown",
   "id": "b776f8d5",
   "metadata": {},
   "source": [
    "### Exporting incomplete csv"
   ]
  },
  {
   "cell_type": "code",
   "execution_count": 16,
   "id": "db58dc8a",
   "metadata": {},
   "outputs": [],
   "source": [
    "tmx.to_csv('../../01_weather_data/03_imputing_process/01_test_data/Temixco_2018_incomplete.csv')"
   ]
  }
 ],
 "metadata": {
  "kernelspec": {
   "display_name": "Python 3 (ipykernel)",
   "language": "python",
   "name": "python3"
  },
  "language_info": {
   "codemirror_mode": {
    "name": "ipython",
    "version": 3
   },
   "file_extension": ".py",
   "mimetype": "text/x-python",
   "name": "python",
   "nbconvert_exporter": "python",
   "pygments_lexer": "ipython3",
   "version": "3.9.5"
  }
 },
 "nbformat": 4,
 "nbformat_minor": 5
}
