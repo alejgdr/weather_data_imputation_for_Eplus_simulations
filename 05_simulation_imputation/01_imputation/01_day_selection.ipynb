{
 "cells": [
  {
   "cell_type": "code",
   "execution_count": 2,
   "id": "dd217af2",
   "metadata": {},
   "outputs": [],
   "source": [
    "import pandas as pd\n",
    "import matplotlib.pyplot as plt\n",
    "import calplot\n",
    "import numpy as np\n",
    "import impute as imp"
   ]
  },
  {
   "cell_type": "markdown",
   "id": "5ea6a801",
   "metadata": {},
   "source": [
    "## Verifying the dataset"
   ]
  },
  {
   "cell_type": "code",
   "execution_count": 3,
   "id": "2417b582",
   "metadata": {},
   "outputs": [],
   "source": [
    "tmx=pd.read_csv('../../01_weather_data/01_raw_data/Temixco_2018_N006c.csv',index_col=0,parse_dates=True)\n",
    "ann_test=pd.read_csv('../../01_weather_data/03_imputing_process/ann_me.csv',index_col=0,parse_dates=True)\n",
    "sarima_test=pd.read_csv('../../01_weather_data/03_imputing_process/sarima_me.csv',index_col=0,parse_dates=True)\n"
   ]
  },
  {
   "cell_type": "code",
   "execution_count": 4,
   "id": "e6898a6e-eda0-41da-b1e5-08e9243e86ae",
   "metadata": {},
   "outputs": [
    {
     "data": {
      "text/html": [
       "<div>\n",
       "<style scoped>\n",
       "    .dataframe tbody tr th:only-of-type {\n",
       "        vertical-align: middle;\n",
       "    }\n",
       "\n",
       "    .dataframe tbody tr th {\n",
       "        vertical-align: top;\n",
       "    }\n",
       "\n",
       "    .dataframe thead th {\n",
       "        text-align: right;\n",
       "    }\n",
       "</style>\n",
       "<table border=\"1\" class=\"dataframe\">\n",
       "  <thead>\n",
       "    <tr style=\"text-align: right;\">\n",
       "      <th></th>\n",
       "      <th>Direct</th>\n",
       "      <th>Global</th>\n",
       "      <th>Temperatura</th>\n",
       "      <th>Humedad</th>\n",
       "      <th>Presion</th>\n",
       "      <th>ws</th>\n",
       "      <th>wd</th>\n",
       "      <th>alturasolar</th>\n",
       "      <th>azimuth</th>\n",
       "      <th>prediccion</th>\n",
       "      <th>minutodia</th>\n",
       "      <th>me</th>\n",
       "      <th>mae</th>\n",
       "    </tr>\n",
       "    <tr>\n",
       "      <th>tiempo</th>\n",
       "      <th></th>\n",
       "      <th></th>\n",
       "      <th></th>\n",
       "      <th></th>\n",
       "      <th></th>\n",
       "      <th></th>\n",
       "      <th></th>\n",
       "      <th></th>\n",
       "      <th></th>\n",
       "      <th></th>\n",
       "      <th></th>\n",
       "      <th></th>\n",
       "      <th></th>\n",
       "    </tr>\n",
       "  </thead>\n",
       "  <tbody>\n",
       "    <tr>\n",
       "      <th>2018-01-01 00:00:00</th>\n",
       "      <td>0.0</td>\n",
       "      <td>0.0</td>\n",
       "      <td>18.70</td>\n",
       "      <td>36.34</td>\n",
       "      <td>87864.11</td>\n",
       "      <td>1.422</td>\n",
       "      <td>316.0</td>\n",
       "      <td>-79.806160</td>\n",
       "      <td>166.773196</td>\n",
       "      <td>0.0</td>\n",
       "      <td>0</td>\n",
       "      <td>0.0</td>\n",
       "      <td>0.0</td>\n",
       "    </tr>\n",
       "    <tr>\n",
       "      <th>2018-01-01 00:10:00</th>\n",
       "      <td>0.0</td>\n",
       "      <td>0.0</td>\n",
       "      <td>18.95</td>\n",
       "      <td>35.29</td>\n",
       "      <td>87876.37</td>\n",
       "      <td>1.008</td>\n",
       "      <td>283.7</td>\n",
       "      <td>-81.878940</td>\n",
       "      <td>170.053742</td>\n",
       "      <td>0.0</td>\n",
       "      <td>10</td>\n",
       "      <td>0.0</td>\n",
       "      <td>0.0</td>\n",
       "    </tr>\n",
       "    <tr>\n",
       "      <th>2018-01-01 00:20:00</th>\n",
       "      <td>0.0</td>\n",
       "      <td>0.0</td>\n",
       "      <td>18.94</td>\n",
       "      <td>35.43</td>\n",
       "      <td>87888.64</td>\n",
       "      <td>1.565</td>\n",
       "      <td>326.0</td>\n",
       "      <td>-83.764991</td>\n",
       "      <td>173.367191</td>\n",
       "      <td>0.0</td>\n",
       "      <td>20</td>\n",
       "      <td>0.0</td>\n",
       "      <td>0.0</td>\n",
       "    </tr>\n",
       "    <tr>\n",
       "      <th>2018-01-01 00:30:00</th>\n",
       "      <td>0.0</td>\n",
       "      <td>0.0</td>\n",
       "      <td>18.77</td>\n",
       "      <td>35.89</td>\n",
       "      <td>87887.21</td>\n",
       "      <td>2.175</td>\n",
       "      <td>354.5</td>\n",
       "      <td>-85.236372</td>\n",
       "      <td>176.703016</td>\n",
       "      <td>0.0</td>\n",
       "      <td>30</td>\n",
       "      <td>0.0</td>\n",
       "      <td>0.0</td>\n",
       "    </tr>\n",
       "    <tr>\n",
       "      <th>2018-01-01 00:40:00</th>\n",
       "      <td>0.0</td>\n",
       "      <td>0.0</td>\n",
       "      <td>18.81</td>\n",
       "      <td>36.34</td>\n",
       "      <td>87886.91</td>\n",
       "      <td>1.902</td>\n",
       "      <td>348.0</td>\n",
       "      <td>-85.827949</td>\n",
       "      <td>-179.949903</td>\n",
       "      <td>0.0</td>\n",
       "      <td>40</td>\n",
       "      <td>0.0</td>\n",
       "      <td>0.0</td>\n",
       "    </tr>\n",
       "    <tr>\n",
       "      <th>...</th>\n",
       "      <td>...</td>\n",
       "      <td>...</td>\n",
       "      <td>...</td>\n",
       "      <td>...</td>\n",
       "      <td>...</td>\n",
       "      <td>...</td>\n",
       "      <td>...</td>\n",
       "      <td>...</td>\n",
       "      <td>...</td>\n",
       "      <td>...</td>\n",
       "      <td>...</td>\n",
       "      <td>...</td>\n",
       "      <td>...</td>\n",
       "    </tr>\n",
       "    <tr>\n",
       "      <th>2018-12-31 23:10:00</th>\n",
       "      <td>0.0</td>\n",
       "      <td>0.0</td>\n",
       "      <td>18.51</td>\n",
       "      <td>47.29</td>\n",
       "      <td>87484.32</td>\n",
       "      <td>1.715</td>\n",
       "      <td>332.2</td>\n",
       "      <td>-68.725457</td>\n",
       "      <td>151.345160</td>\n",
       "      <td>0.0</td>\n",
       "      <td>1390</td>\n",
       "      <td>0.0</td>\n",
       "      <td>0.0</td>\n",
       "    </tr>\n",
       "    <tr>\n",
       "      <th>2018-12-31 23:20:00</th>\n",
       "      <td>0.0</td>\n",
       "      <td>0.0</td>\n",
       "      <td>18.26</td>\n",
       "      <td>48.02</td>\n",
       "      <td>87470.70</td>\n",
       "      <td>1.703</td>\n",
       "      <td>320.5</td>\n",
       "      <td>-71.001501</td>\n",
       "      <td>154.338568</td>\n",
       "      <td>0.0</td>\n",
       "      <td>1400</td>\n",
       "      <td>0.0</td>\n",
       "      <td>0.0</td>\n",
       "    </tr>\n",
       "    <tr>\n",
       "      <th>2018-12-31 23:30:00</th>\n",
       "      <td>0.0</td>\n",
       "      <td>0.0</td>\n",
       "      <td>18.39</td>\n",
       "      <td>46.84</td>\n",
       "      <td>87455.03</td>\n",
       "      <td>2.887</td>\n",
       "      <td>335.7</td>\n",
       "      <td>-73.264218</td>\n",
       "      <td>157.400817</td>\n",
       "      <td>0.0</td>\n",
       "      <td>1410</td>\n",
       "      <td>0.0</td>\n",
       "      <td>0.0</td>\n",
       "    </tr>\n",
       "    <tr>\n",
       "      <th>2018-12-31 23:40:00</th>\n",
       "      <td>0.0</td>\n",
       "      <td>0.0</td>\n",
       "      <td>17.99</td>\n",
       "      <td>47.85</td>\n",
       "      <td>87470.02</td>\n",
       "      <td>1.528</td>\n",
       "      <td>358.8</td>\n",
       "      <td>-75.506650</td>\n",
       "      <td>160.527038</td>\n",
       "      <td>0.0</td>\n",
       "      <td>1420</td>\n",
       "      <td>0.0</td>\n",
       "      <td>0.0</td>\n",
       "    </tr>\n",
       "    <tr>\n",
       "      <th>2018-12-31 23:50:00</th>\n",
       "      <td>0.0</td>\n",
       "      <td>0.0</td>\n",
       "      <td>17.75</td>\n",
       "      <td>49.65</td>\n",
       "      <td>87467.29</td>\n",
       "      <td>0.598</td>\n",
       "      <td>322.3</td>\n",
       "      <td>-77.716959</td>\n",
       "      <td>163.711070</td>\n",
       "      <td>0.0</td>\n",
       "      <td>1430</td>\n",
       "      <td>0.0</td>\n",
       "      <td>0.0</td>\n",
       "    </tr>\n",
       "  </tbody>\n",
       "</table>\n",
       "<p>52560 rows × 13 columns</p>\n",
       "</div>"
      ],
      "text/plain": [
       "                     Direct  Global  Temperatura  Humedad   Presion     ws  \\\n",
       "tiempo                                                                       \n",
       "2018-01-01 00:00:00     0.0     0.0        18.70    36.34  87864.11  1.422   \n",
       "2018-01-01 00:10:00     0.0     0.0        18.95    35.29  87876.37  1.008   \n",
       "2018-01-01 00:20:00     0.0     0.0        18.94    35.43  87888.64  1.565   \n",
       "2018-01-01 00:30:00     0.0     0.0        18.77    35.89  87887.21  2.175   \n",
       "2018-01-01 00:40:00     0.0     0.0        18.81    36.34  87886.91  1.902   \n",
       "...                     ...     ...          ...      ...       ...    ...   \n",
       "2018-12-31 23:10:00     0.0     0.0        18.51    47.29  87484.32  1.715   \n",
       "2018-12-31 23:20:00     0.0     0.0        18.26    48.02  87470.70  1.703   \n",
       "2018-12-31 23:30:00     0.0     0.0        18.39    46.84  87455.03  2.887   \n",
       "2018-12-31 23:40:00     0.0     0.0        17.99    47.85  87470.02  1.528   \n",
       "2018-12-31 23:50:00     0.0     0.0        17.75    49.65  87467.29  0.598   \n",
       "\n",
       "                        wd  alturasolar     azimuth  prediccion  minutodia  \\\n",
       "tiempo                                                                       \n",
       "2018-01-01 00:00:00  316.0   -79.806160  166.773196         0.0          0   \n",
       "2018-01-01 00:10:00  283.7   -81.878940  170.053742         0.0         10   \n",
       "2018-01-01 00:20:00  326.0   -83.764991  173.367191         0.0         20   \n",
       "2018-01-01 00:30:00  354.5   -85.236372  176.703016         0.0         30   \n",
       "2018-01-01 00:40:00  348.0   -85.827949 -179.949903         0.0         40   \n",
       "...                    ...          ...         ...         ...        ...   \n",
       "2018-12-31 23:10:00  332.2   -68.725457  151.345160         0.0       1390   \n",
       "2018-12-31 23:20:00  320.5   -71.001501  154.338568         0.0       1400   \n",
       "2018-12-31 23:30:00  335.7   -73.264218  157.400817         0.0       1410   \n",
       "2018-12-31 23:40:00  358.8   -75.506650  160.527038         0.0       1420   \n",
       "2018-12-31 23:50:00  322.3   -77.716959  163.711070         0.0       1430   \n",
       "\n",
       "                      me  mae  \n",
       "tiempo                         \n",
       "2018-01-01 00:00:00  0.0  0.0  \n",
       "2018-01-01 00:10:00  0.0  0.0  \n",
       "2018-01-01 00:20:00  0.0  0.0  \n",
       "2018-01-01 00:30:00  0.0  0.0  \n",
       "2018-01-01 00:40:00  0.0  0.0  \n",
       "...                  ...  ...  \n",
       "2018-12-31 23:10:00  0.0  0.0  \n",
       "2018-12-31 23:20:00  0.0  0.0  \n",
       "2018-12-31 23:30:00  0.0  0.0  \n",
       "2018-12-31 23:40:00  0.0  0.0  \n",
       "2018-12-31 23:50:00  0.0  0.0  \n",
       "\n",
       "[52560 rows x 13 columns]"
      ]
     },
     "execution_count": 4,
     "metadata": {},
     "output_type": "execute_result"
    }
   ],
   "source": [
    "ann_test"
   ]
  },
  {
   "cell_type": "code",
   "execution_count": 5,
   "id": "c87d7253",
   "metadata": {},
   "outputs": [
    {
     "data": {
      "text/plain": [
       "Text(0.5, 1.0, 'Daily solar Energy')"
      ]
     },
     "execution_count": 5,
     "metadata": {},
     "output_type": "execute_result"
    },
    {
     "data": {
      "image/png": "[encoded data removed]",
      "text/plain": [
       "<Figure size 900x122.4 with 2 Axes>"
      ]
     },
     "metadata": {
      "needs_background": "light"
     },
     "output_type": "display_data"
    }
   ],
   "source": [
    "tmx['Eg']=tmx['Ig']/6\n",
    "tmx_d=tmx.resample('D').sum()\n",
    "ann_d=ann_test.resample('D').mean()\n",
    "calplot.calplot(tmx_d['Eg'],cmap='jet',how='sum',edgecolor='black',linewidth=1.5)\n",
    "plt.title('Daily solar Energy',fontsize=19)"
   ]
  },
  {
   "cell_type": "markdown",
   "id": "c36dd547",
   "metadata": {},
   "source": [
    "## Pasting 02-June to 01-June"
   ]
  },
  {
   "cell_type": "code",
   "execution_count": 8,
   "id": "fa259228",
   "metadata": {},
   "outputs": [
    {
     "data": {
      "text/plain": [
       "[<matplotlib.lines.Line2D at 0x14f833e80>]"
      ]
     },
     "execution_count": 8,
     "metadata": {},
     "output_type": "execute_result"
    },
    {
     "data": {
      "image/png": "[encoded data removed]",
      "text/plain": [
       "<Figure size 432x288 with 1 Axes>"
      ]
     },
     "metadata": {
      "needs_background": "light"
     },
     "output_type": "display_data"
    }
   ],
   "source": [
    "plt.plot(tmx.Ig.loc['2018-06-01'],'r.')"
   ]
  },
  {
   "cell_type": "code",
   "execution_count": 9,
   "id": "e9686876",
   "metadata": {},
   "outputs": [
    {
     "data": {
      "text/plain": [
       "[<matplotlib.lines.Line2D at 0x14f55fe50>]"
      ]
     },
     "execution_count": 9,
     "metadata": {},
     "output_type": "execute_result"
    },
    {
     "data": {
      "image/png": "[encoded data removed]",
      "text/plain": [
       "<Figure size 432x288 with 1 Axes>"
      ]
     },
     "metadata": {
      "needs_background": "light"
     },
     "output_type": "display_data"
    }
   ],
   "source": [
    "tmx_2=tmx.copy()\n",
    "tmx['2018-06-01 00:00':'2018-06-02 00:00']=tmx_2['2018-06-02 00:00':'2018-06-03 00:00']\n",
    "plt.plot(tmx.Ig.loc['2018-06-01'],'r.')\n",
    "# Sustituir todas las variables"
   ]
  },
  {
   "cell_type": "code",
   "execution_count": 10,
   "id": "e03ea818",
   "metadata": {},
   "outputs": [
    {
     "data": {
      "text/plain": [
       "Text(0.5, 1.0, 'Daily solar Energy')"
      ]
     },
     "execution_count": 10,
     "metadata": {},
     "output_type": "execute_result"
    },
    {
     "data": {
      "image/png": "[encoded data removed]",
      "text/plain": [
       "<Figure size 900x122.4 with 2 Axes>"
      ]
     },
     "metadata": {
      "needs_background": "light"
     },
     "output_type": "display_data"
    }
   ],
   "source": [
    "tmx['Eg']=tmx['Ig']/6\n",
    "tmx_d=tmx.resample('D').sum()\n",
    "tmx.fillna(0,inplace=True)\n",
    "calplot.calplot(tmx_d['Eg'],cmap='jet',how='sum',edgecolor='black',linewidth=1.5)\n",
    "plt.title('Daily solar Energy',fontsize=19)"
   ]
  },
  {
   "cell_type": "markdown",
   "id": "74a50a01-8810-4269-aabc-c5df3d557e56",
   "metadata": {},
   "source": [
    "# Recognizing the days to be selected"
   ]
  },
  {
   "cell_type": "markdown",
   "id": "c5b457c6",
   "metadata": {},
   "source": [
    "### Season 1 January:March"
   ]
  },
  {
   "cell_type": "code",
   "execution_count": 11,
   "id": "354a4918",
   "metadata": {
    "scrolled": true
   },
   "outputs": [
    {
     "name": "stdout",
     "output_type": "stream",
     "text": [
      "dia_maximo: 2018-03-29 00:00:00\n",
      "dia_minimo: 2018-01-30 00:00:00\n"
     ]
    }
   ],
   "source": [
    "season1='2018-01-01'\n",
    "season1e='2018-03-31'\n",
    "imp.maxmin_season(tmx_d,'Eg',season1,season1e)"
   ]
  },
  {
   "cell_type": "code",
   "execution_count": 12,
   "id": "d26b2e62-dbd0-47d7-90ff-2bb3af2836d6",
   "metadata": {},
   "outputs": [
    {
     "name": "stdout",
     "output_type": "stream",
     "text": [
      "dia_maximo: 2018-01-30 00:00:00\n",
      "dia_minimo: 2018-01-12 00:00:00\n"
     ]
    }
   ],
   "source": [
    "season1='2018-01-02'\n",
    "season1e='2018-03-31'\n",
    "imp.maxmin_season(ann_d,'mae',season1,season1e)"
   ]
  },
  {
   "cell_type": "markdown",
   "id": "5b65ae2b",
   "metadata": {},
   "source": [
    "### Season 2 Apr:Jun"
   ]
  },
  {
   "cell_type": "code",
   "execution_count": 13,
   "id": "83fe0e47",
   "metadata": {},
   "outputs": [
    {
     "name": "stdout",
     "output_type": "stream",
     "text": [
      "dia_maximo: 2018-06-27 00:00:00\n",
      "dia_minimo: 2018-06-15 00:00:00\n"
     ]
    }
   ],
   "source": [
    "season2='2018-04-01'\n",
    "season2e='2018-06-30'\n",
    "imp.maxmin_season(tmx_d,'Eg',season2,season2e)"
   ]
  },
  {
   "cell_type": "code",
   "execution_count": 14,
   "id": "c7fde3ee-444d-4e84-99c1-0c23cfd6b870",
   "metadata": {},
   "outputs": [
    {
     "name": "stdout",
     "output_type": "stream",
     "text": [
      "dia_maximo: 2018-06-15 00:00:00\n",
      "dia_minimo: 2018-04-17 00:00:00\n"
     ]
    }
   ],
   "source": [
    "\n",
    "imp.maxmin_season(ann_d,'mae',season2,season2e)"
   ]
  },
  {
   "cell_type": "markdown",
   "id": "91634a8a",
   "metadata": {},
   "source": [
    "### Season 3 Jul:Sept"
   ]
  },
  {
   "cell_type": "code",
   "execution_count": 15,
   "id": "2eef91f1",
   "metadata": {
    "scrolled": true
   },
   "outputs": [
    {
     "name": "stdout",
     "output_type": "stream",
     "text": [
      "dia_maximo: 2018-07-28 00:00:00\n",
      "dia_minimo: 2018-08-12 00:00:00\n"
     ]
    }
   ],
   "source": [
    "season3='2018-07-01'\n",
    "season3e='2018-09-30'\n",
    "imp.maxmin_season(tmx_d,'Eg',season3,season3e)"
   ]
  },
  {
   "cell_type": "code",
   "execution_count": 16,
   "id": "7d3ea661-be65-4770-868d-2267f056ed86",
   "metadata": {},
   "outputs": [
    {
     "name": "stdout",
     "output_type": "stream",
     "text": [
      "dia_maximo: 2018-08-12 00:00:00\n",
      "dia_minimo: 2018-07-19 00:00:00\n"
     ]
    }
   ],
   "source": [
    "imp.maxmin_season(ann_d,'mae',season3,season3e)"
   ]
  },
  {
   "cell_type": "markdown",
   "id": "a6952500",
   "metadata": {},
   "source": [
    "### Season 4 Oct:Dec"
   ]
  },
  {
   "cell_type": "code",
   "execution_count": 17,
   "id": "6e07be0d",
   "metadata": {},
   "outputs": [
    {
     "name": "stdout",
     "output_type": "stream",
     "text": [
      "dia_maximo: 2018-10-05 00:00:00\n",
      "dia_minimo: 2018-11-14 00:00:00\n"
     ]
    }
   ],
   "source": [
    "season4='2018-10-01'\n",
    "season4e='2018-12-30'\n",
    "imp.maxmin_season(tmx_d,'Eg',season4,season4e)"
   ]
  },
  {
   "cell_type": "code",
   "execution_count": 18,
   "id": "fdeed112-41d7-4629-b01a-a36d6eb39f7a",
   "metadata": {
    "scrolled": true
   },
   "outputs": [
    {
     "name": "stdout",
     "output_type": "stream",
     "text": [
      "dia_maximo: 2018-11-14 00:00:00\n",
      "dia_minimo: 2018-12-21 00:00:00\n"
     ]
    }
   ],
   "source": [
    "imp.maxmin_season(ann_d,'mae',season4,season4e)"
   ]
  },
  {
   "cell_type": "markdown",
   "id": "3513e0c3",
   "metadata": {},
   "source": [
    "## Exporting 2018 complete year "
   ]
  },
  {
   "cell_type": "code",
   "execution_count": 19,
   "id": "4d4e9af7",
   "metadata": {},
   "outputs": [],
   "source": [
    "# tmx.to_csv('../../01_weather_data/03_imputing_process/01_test_data/base_temixco.csv')\n",
    "#uncomment when necessary"
   ]
  },
  {
   "cell_type": "markdown",
   "id": "025a47be",
   "metadata": {},
   "source": [
    "# Deleting the min and max radiation days of each season "
   ]
  },
  {
   "cell_type": "code",
   "execution_count": 20,
   "id": "bce2b12b",
   "metadata": {},
   "outputs": [
    {
     "name": "stdout",
     "output_type": "stream",
     "text": [
      "Deleted days:\n",
      "2018-01-30\n",
      "2018-01-12\n",
      "2018-06-15\n",
      "2018-04-17\n",
      "2018-08-12\n",
      "2018-07-19\n",
      "2018-11-14\n",
      "2018-12-21\n"
     ]
    }
   ],
   "source": [
    "days_solar_radiation=['2018-03-29','2018-01-30','2018-06-27','2018-06-15','2018-07-28','2018-08-12','2018-10-05','2018-11-14']\n",
    "days_error=[\n",
    "'2018-01-30', \n",
    "'2018-03-08',\n",
    "'2018-06-15',\n",
    "'2018-06-27',\n",
    "'2018-08-12',\n",
    "'2018-07-09',\n",
    "# '2018-11-14',\n",
    "'2018-11-15'\n",
    "]\n",
    "days_mae=['2018-01-30', #maximo\n",
    "'2018-01-12', #minimo\n",
    "'2018-06-15',\n",
    "'2018-04-17',\n",
    "'2018-08-12',\n",
    "'2018-07-19',\n",
    "'2018-11-14',\n",
    "'2018-12-21',]\n",
    "\n",
    "print('Deleted days:')\n",
    "for x in days_mae:\n",
    "    imp.deleting_days(tmx.Ig,x)\n",
    "    print(x)\n",
    "    "
   ]
  },
  {
   "cell_type": "code",
   "execution_count": 67,
   "id": "340bb31f",
   "metadata": {},
   "outputs": [
    {
     "data": {
      "text/plain": [
       "(<Figure size 900x122.4 with 2 Axes>,\n",
       " array([<AxesSubplot:ylabel='2018'>], dtype=object))"
      ]
     },
     "execution_count": 67,
     "metadata": {},
     "output_type": "execute_result"
    },
    {
     "data": {
      "image/png": "[encoded data removed]",
      "text/plain": [
       "<Figure size 900x122.4 with 2 Axes>"
      ]
     },
     "metadata": {
      "needs_background": "light"
     },
     "output_type": "display_data"
    }
   ],
   "source": [
    "\n",
    "calplot.calplot(tmx.Ig,how='mean',dropzero=False)"
   ]
  },
  {
   "cell_type": "markdown",
   "id": "b776f8d5",
   "metadata": {},
   "source": [
    "### Exporting incomplete csv"
   ]
  },
  {
   "cell_type": "code",
   "execution_count": 84,
   "id": "4454d8d3",
   "metadata": {},
   "outputs": [
    {
     "data": {
      "text/html": [
       "<div>\n",
       "<style scoped>\n",
       "    .dataframe tbody tr th:only-of-type {\n",
       "        vertical-align: middle;\n",
       "    }\n",
       "\n",
       "    .dataframe tbody tr th {\n",
       "        vertical-align: top;\n",
       "    }\n",
       "\n",
       "    .dataframe thead th {\n",
       "        text-align: right;\n",
       "    }\n",
       "</style>\n",
       "<table border=\"1\" class=\"dataframe\">\n",
       "  <thead>\n",
       "    <tr style=\"text-align: right;\">\n",
       "      <th></th>\n",
       "      <th>anio</th>\n",
       "      <th>mes</th>\n",
       "      <th>dia</th>\n",
       "      <th>hora</th>\n",
       "      <th>Ib</th>\n",
       "      <th>Ig</th>\n",
       "      <th>to</th>\n",
       "      <th>RH</th>\n",
       "      <th>P,WS</th>\n",
       "      <th>WD</th>\n",
       "      <th>alturasolar</th>\n",
       "      <th>azimuth</th>\n",
       "    </tr>\n",
       "    <tr>\n",
       "      <th>date</th>\n",
       "      <th></th>\n",
       "      <th></th>\n",
       "      <th></th>\n",
       "      <th></th>\n",
       "      <th></th>\n",
       "      <th></th>\n",
       "      <th></th>\n",
       "      <th></th>\n",
       "      <th></th>\n",
       "      <th></th>\n",
       "      <th></th>\n",
       "      <th></th>\n",
       "    </tr>\n",
       "  </thead>\n",
       "  <tbody>\n",
       "    <tr>\n",
       "      <th>2018-01-01 00:10:00</th>\n",
       "      <td>2018</td>\n",
       "      <td>1</td>\n",
       "      <td>1</td>\n",
       "      <td>0</td>\n",
       "      <td>10</td>\n",
       "      <td>18.95</td>\n",
       "      <td>35.29</td>\n",
       "      <td>87876.37</td>\n",
       "      <td>0.0</td>\n",
       "      <td>0.0</td>\n",
       "      <td>283.700</td>\n",
       "      <td>1.008</td>\n",
       "    </tr>\n",
       "    <tr>\n",
       "      <th>2018-01-01 00:20:00</th>\n",
       "      <td>2018</td>\n",
       "      <td>1</td>\n",
       "      <td>1</td>\n",
       "      <td>0</td>\n",
       "      <td>20</td>\n",
       "      <td>18.94</td>\n",
       "      <td>35.43</td>\n",
       "      <td>87888.64</td>\n",
       "      <td>0.0</td>\n",
       "      <td>0.0</td>\n",
       "      <td>326.000</td>\n",
       "      <td>1.565</td>\n",
       "    </tr>\n",
       "    <tr>\n",
       "      <th>2018-01-01 00:30:00</th>\n",
       "      <td>2018</td>\n",
       "      <td>1</td>\n",
       "      <td>1</td>\n",
       "      <td>0</td>\n",
       "      <td>30</td>\n",
       "      <td>18.77</td>\n",
       "      <td>35.89</td>\n",
       "      <td>87887.21</td>\n",
       "      <td>0.0</td>\n",
       "      <td>0.0</td>\n",
       "      <td>354.500</td>\n",
       "      <td>2.175</td>\n",
       "    </tr>\n",
       "    <tr>\n",
       "      <th>2018-01-01 00:40:00</th>\n",
       "      <td>2018</td>\n",
       "      <td>1</td>\n",
       "      <td>1</td>\n",
       "      <td>0</td>\n",
       "      <td>40</td>\n",
       "      <td>18.81</td>\n",
       "      <td>36.34</td>\n",
       "      <td>87886.91</td>\n",
       "      <td>0.0</td>\n",
       "      <td>0.0</td>\n",
       "      <td>348.000</td>\n",
       "      <td>1.902</td>\n",
       "    </tr>\n",
       "    <tr>\n",
       "      <th>2018-01-01 00:50:00</th>\n",
       "      <td>2018</td>\n",
       "      <td>1</td>\n",
       "      <td>1</td>\n",
       "      <td>0</td>\n",
       "      <td>50</td>\n",
       "      <td>19.23</td>\n",
       "      <td>35.40</td>\n",
       "      <td>87889.36</td>\n",
       "      <td>0.0</td>\n",
       "      <td>0.0</td>\n",
       "      <td>6.668</td>\n",
       "      <td>1.468</td>\n",
       "    </tr>\n",
       "    <tr>\n",
       "      <th>...</th>\n",
       "      <td>...</td>\n",
       "      <td>...</td>\n",
       "      <td>...</td>\n",
       "      <td>...</td>\n",
       "      <td>...</td>\n",
       "      <td>...</td>\n",
       "      <td>...</td>\n",
       "      <td>...</td>\n",
       "      <td>...</td>\n",
       "      <td>...</td>\n",
       "      <td>...</td>\n",
       "      <td>...</td>\n",
       "    </tr>\n",
       "    <tr>\n",
       "      <th>2018-12-31 23:10:00</th>\n",
       "      <td>2018</td>\n",
       "      <td>12</td>\n",
       "      <td>31</td>\n",
       "      <td>23</td>\n",
       "      <td>10</td>\n",
       "      <td>18.51</td>\n",
       "      <td>47.29</td>\n",
       "      <td>87484.32</td>\n",
       "      <td>0.0</td>\n",
       "      <td>0.0</td>\n",
       "      <td>332.200</td>\n",
       "      <td>1.715</td>\n",
       "    </tr>\n",
       "    <tr>\n",
       "      <th>2018-12-31 23:20:00</th>\n",
       "      <td>2018</td>\n",
       "      <td>12</td>\n",
       "      <td>31</td>\n",
       "      <td>23</td>\n",
       "      <td>20</td>\n",
       "      <td>18.26</td>\n",
       "      <td>48.02</td>\n",
       "      <td>87470.70</td>\n",
       "      <td>0.0</td>\n",
       "      <td>0.0</td>\n",
       "      <td>320.500</td>\n",
       "      <td>1.703</td>\n",
       "    </tr>\n",
       "    <tr>\n",
       "      <th>2018-12-31 23:30:00</th>\n",
       "      <td>2018</td>\n",
       "      <td>12</td>\n",
       "      <td>31</td>\n",
       "      <td>23</td>\n",
       "      <td>30</td>\n",
       "      <td>18.39</td>\n",
       "      <td>46.84</td>\n",
       "      <td>87455.03</td>\n",
       "      <td>0.0</td>\n",
       "      <td>0.0</td>\n",
       "      <td>335.700</td>\n",
       "      <td>2.887</td>\n",
       "    </tr>\n",
       "    <tr>\n",
       "      <th>2018-12-31 23:40:00</th>\n",
       "      <td>2018</td>\n",
       "      <td>12</td>\n",
       "      <td>31</td>\n",
       "      <td>23</td>\n",
       "      <td>40</td>\n",
       "      <td>17.99</td>\n",
       "      <td>47.85</td>\n",
       "      <td>87470.02</td>\n",
       "      <td>0.0</td>\n",
       "      <td>0.0</td>\n",
       "      <td>358.800</td>\n",
       "      <td>1.528</td>\n",
       "    </tr>\n",
       "    <tr>\n",
       "      <th>2018-12-31 23:50:00</th>\n",
       "      <td>2018</td>\n",
       "      <td>12</td>\n",
       "      <td>31</td>\n",
       "      <td>23</td>\n",
       "      <td>50</td>\n",
       "      <td>17.75</td>\n",
       "      <td>49.65</td>\n",
       "      <td>87467.29</td>\n",
       "      <td>0.0</td>\n",
       "      <td>0.0</td>\n",
       "      <td>322.300</td>\n",
       "      <td>0.598</td>\n",
       "    </tr>\n",
       "  </tbody>\n",
       "</table>\n",
       "<p>52559 rows × 12 columns</p>\n",
       "</div>"
      ],
      "text/plain": [
       "                     anio  mes  dia  hora  Ib     Ig     to        RH  P,WS  \\\n",
       "date                                                                          \n",
       "2018-01-01 00:10:00  2018    1    1     0  10  18.95  35.29  87876.37   0.0   \n",
       "2018-01-01 00:20:00  2018    1    1     0  20  18.94  35.43  87888.64   0.0   \n",
       "2018-01-01 00:30:00  2018    1    1     0  30  18.77  35.89  87887.21   0.0   \n",
       "2018-01-01 00:40:00  2018    1    1     0  40  18.81  36.34  87886.91   0.0   \n",
       "2018-01-01 00:50:00  2018    1    1     0  50  19.23  35.40  87889.36   0.0   \n",
       "...                   ...  ...  ...   ...  ..    ...    ...       ...   ...   \n",
       "2018-12-31 23:10:00  2018   12   31    23  10  18.51  47.29  87484.32   0.0   \n",
       "2018-12-31 23:20:00  2018   12   31    23  20  18.26  48.02  87470.70   0.0   \n",
       "2018-12-31 23:30:00  2018   12   31    23  30  18.39  46.84  87455.03   0.0   \n",
       "2018-12-31 23:40:00  2018   12   31    23  40  17.99  47.85  87470.02   0.0   \n",
       "2018-12-31 23:50:00  2018   12   31    23  50  17.75  49.65  87467.29   0.0   \n",
       "\n",
       "                      WD  alturasolar  azimuth  \n",
       "date                                            \n",
       "2018-01-01 00:10:00  0.0      283.700    1.008  \n",
       "2018-01-01 00:20:00  0.0      326.000    1.565  \n",
       "2018-01-01 00:30:00  0.0      354.500    2.175  \n",
       "2018-01-01 00:40:00  0.0      348.000    1.902  \n",
       "2018-01-01 00:50:00  0.0        6.668    1.468  \n",
       "...                  ...          ...      ...  \n",
       "2018-12-31 23:10:00  0.0      332.200    1.715  \n",
       "2018-12-31 23:20:00  0.0      320.500    1.703  \n",
       "2018-12-31 23:30:00  0.0      335.700    2.887  \n",
       "2018-12-31 23:40:00  0.0      358.800    1.528  \n",
       "2018-12-31 23:50:00  0.0      322.300    0.598  \n",
       "\n",
       "[52559 rows x 12 columns]"
      ]
     },
     "execution_count": 84,
     "metadata": {},
     "output_type": "execute_result"
    }
   ],
   "source": [
    "tmx_epw=pd.read_csv(\"../../01_weather_data/04_to_EPWs/cnn_to_epw_mae.csv\",names=['date','anio','mes','dia','hora','Ib','Ig','to','RH','P,''WS','WD','alturasolar','azimuth'],index_col=0,parse_dates=True)\n",
    "tmx_epw"
   ]
  },
  {
   "cell_type": "code",
   "execution_count": 90,
   "id": "6536c098",
   "metadata": {
    "scrolled": true
   },
   "outputs": [
    {
     "data": {
      "text/plain": [
       "(<Figure size 900x122.4 with 2 Axes>,\n",
       " array([<AxesSubplot:ylabel='2018'>], dtype=object))"
      ]
     },
     "execution_count": 90,
     "metadata": {},
     "output_type": "execute_result"
    },
    {
     "data": {
      "image/png": "[encoded data removed]",
      "text/plain": [
       "<Figure size 900x122.4 with 2 Axes>"
      ]
     },
     "metadata": {
      "needs_background": "light"
     },
     "output_type": "display_data"
    }
   ],
   "source": [
    "figsize=(50,50)\n",
    "calplot.calplot(tmx_epw.dia,cmap='jet',linewidth=2,edgecolor='black',textformat='{:f}')"
   ]
  },
  {
   "cell_type": "code",
   "execution_count": 33,
   "id": "db58dc8a",
   "metadata": {},
   "outputs": [],
   "source": [
    "tmx.to_csv('../../01_weather_data/03_imputing_process/01_test_data/Temixco_2018_incomplete_maxmin_mae.csv')\n",
    "#Uncomment when needed"
   ]
  },
  {
   "cell_type": "code",
   "execution_count": 34,
   "id": "3ed5d66f-474b-4816-bbfe-13e70c49ec4f",
   "metadata": {},
   "outputs": [
    {
     "data": {
      "text/html": [
       "<div>\n",
       "<style scoped>\n",
       "    .dataframe tbody tr th:only-of-type {\n",
       "        vertical-align: middle;\n",
       "    }\n",
       "\n",
       "    .dataframe tbody tr th {\n",
       "        vertical-align: top;\n",
       "    }\n",
       "\n",
       "    .dataframe thead th {\n",
       "        text-align: right;\n",
       "    }\n",
       "</style>\n",
       "<table border=\"1\" class=\"dataframe\">\n",
       "  <thead>\n",
       "    <tr style=\"text-align: right;\">\n",
       "      <th></th>\n",
       "      <th>Ib</th>\n",
       "      <th>Ig</th>\n",
       "      <th>To</th>\n",
       "      <th>RH</th>\n",
       "      <th>WS</th>\n",
       "      <th>WD</th>\n",
       "      <th>P</th>\n",
       "      <th>Eg</th>\n",
       "    </tr>\n",
       "    <tr>\n",
       "      <th>time</th>\n",
       "      <th></th>\n",
       "      <th></th>\n",
       "      <th></th>\n",
       "      <th></th>\n",
       "      <th></th>\n",
       "      <th></th>\n",
       "      <th></th>\n",
       "      <th></th>\n",
       "    </tr>\n",
       "  </thead>\n",
       "  <tbody>\n",
       "    <tr>\n",
       "      <th>2018-01-01 00:00:00</th>\n",
       "      <td>0.000</td>\n",
       "      <td>0.0</td>\n",
       "      <td>18.70</td>\n",
       "      <td>36.34</td>\n",
       "      <td>1.422</td>\n",
       "      <td>316.0</td>\n",
       "      <td>87864.11</td>\n",
       "      <td>0.0</td>\n",
       "    </tr>\n",
       "    <tr>\n",
       "      <th>2018-01-01 00:10:00</th>\n",
       "      <td>0.002</td>\n",
       "      <td>0.0</td>\n",
       "      <td>18.95</td>\n",
       "      <td>35.29</td>\n",
       "      <td>1.008</td>\n",
       "      <td>283.7</td>\n",
       "      <td>87876.37</td>\n",
       "      <td>0.0</td>\n",
       "    </tr>\n",
       "    <tr>\n",
       "      <th>2018-01-01 00:20:00</th>\n",
       "      <td>0.170</td>\n",
       "      <td>0.0</td>\n",
       "      <td>18.94</td>\n",
       "      <td>35.43</td>\n",
       "      <td>1.565</td>\n",
       "      <td>326.0</td>\n",
       "      <td>87888.64</td>\n",
       "      <td>0.0</td>\n",
       "    </tr>\n",
       "    <tr>\n",
       "      <th>2018-01-01 00:30:00</th>\n",
       "      <td>0.371</td>\n",
       "      <td>0.0</td>\n",
       "      <td>18.77</td>\n",
       "      <td>35.89</td>\n",
       "      <td>2.175</td>\n",
       "      <td>354.5</td>\n",
       "      <td>87887.21</td>\n",
       "      <td>0.0</td>\n",
       "    </tr>\n",
       "    <tr>\n",
       "      <th>2018-01-01 00:40:00</th>\n",
       "      <td>0.305</td>\n",
       "      <td>0.0</td>\n",
       "      <td>18.81</td>\n",
       "      <td>36.34</td>\n",
       "      <td>1.902</td>\n",
       "      <td>348.0</td>\n",
       "      <td>87886.91</td>\n",
       "      <td>0.0</td>\n",
       "    </tr>\n",
       "    <tr>\n",
       "      <th>...</th>\n",
       "      <td>...</td>\n",
       "      <td>...</td>\n",
       "      <td>...</td>\n",
       "      <td>...</td>\n",
       "      <td>...</td>\n",
       "      <td>...</td>\n",
       "      <td>...</td>\n",
       "      <td>...</td>\n",
       "    </tr>\n",
       "    <tr>\n",
       "      <th>2018-12-31 23:10:00</th>\n",
       "      <td>0.125</td>\n",
       "      <td>0.0</td>\n",
       "      <td>18.51</td>\n",
       "      <td>47.29</td>\n",
       "      <td>1.715</td>\n",
       "      <td>332.2</td>\n",
       "      <td>87484.32</td>\n",
       "      <td>0.0</td>\n",
       "    </tr>\n",
       "    <tr>\n",
       "      <th>2018-12-31 23:20:00</th>\n",
       "      <td>0.000</td>\n",
       "      <td>0.0</td>\n",
       "      <td>18.26</td>\n",
       "      <td>48.02</td>\n",
       "      <td>1.703</td>\n",
       "      <td>320.5</td>\n",
       "      <td>87470.70</td>\n",
       "      <td>0.0</td>\n",
       "    </tr>\n",
       "    <tr>\n",
       "      <th>2018-12-31 23:30:00</th>\n",
       "      <td>0.044</td>\n",
       "      <td>0.0</td>\n",
       "      <td>18.39</td>\n",
       "      <td>46.84</td>\n",
       "      <td>2.887</td>\n",
       "      <td>335.7</td>\n",
       "      <td>87455.03</td>\n",
       "      <td>0.0</td>\n",
       "    </tr>\n",
       "    <tr>\n",
       "      <th>2018-12-31 23:40:00</th>\n",
       "      <td>0.170</td>\n",
       "      <td>0.0</td>\n",
       "      <td>17.99</td>\n",
       "      <td>47.85</td>\n",
       "      <td>1.528</td>\n",
       "      <td>358.8</td>\n",
       "      <td>87470.02</td>\n",
       "      <td>0.0</td>\n",
       "    </tr>\n",
       "    <tr>\n",
       "      <th>2018-12-31 23:50:00</th>\n",
       "      <td>0.003</td>\n",
       "      <td>0.0</td>\n",
       "      <td>17.75</td>\n",
       "      <td>49.65</td>\n",
       "      <td>0.598</td>\n",
       "      <td>322.3</td>\n",
       "      <td>87467.29</td>\n",
       "      <td>0.0</td>\n",
       "    </tr>\n",
       "  </tbody>\n",
       "</table>\n",
       "<p>52560 rows × 8 columns</p>\n",
       "</div>"
      ],
      "text/plain": [
       "                        Ib   Ig     To     RH     WS     WD         P   Eg\n",
       "time                                                                      \n",
       "2018-01-01 00:00:00  0.000  0.0  18.70  36.34  1.422  316.0  87864.11  0.0\n",
       "2018-01-01 00:10:00  0.002  0.0  18.95  35.29  1.008  283.7  87876.37  0.0\n",
       "2018-01-01 00:20:00  0.170  0.0  18.94  35.43  1.565  326.0  87888.64  0.0\n",
       "2018-01-01 00:30:00  0.371  0.0  18.77  35.89  2.175  354.5  87887.21  0.0\n",
       "2018-01-01 00:40:00  0.305  0.0  18.81  36.34  1.902  348.0  87886.91  0.0\n",
       "...                    ...  ...    ...    ...    ...    ...       ...  ...\n",
       "2018-12-31 23:10:00  0.125  0.0  18.51  47.29  1.715  332.2  87484.32  0.0\n",
       "2018-12-31 23:20:00  0.000  0.0  18.26  48.02  1.703  320.5  87470.70  0.0\n",
       "2018-12-31 23:30:00  0.044  0.0  18.39  46.84  2.887  335.7  87455.03  0.0\n",
       "2018-12-31 23:40:00  0.170  0.0  17.99  47.85  1.528  358.8  87470.02  0.0\n",
       "2018-12-31 23:50:00  0.003  0.0  17.75  49.65  0.598  322.3  87467.29  0.0\n",
       "\n",
       "[52560 rows x 8 columns]"
      ]
     },
     "execution_count": 34,
     "metadata": {},
     "output_type": "execute_result"
    }
   ],
   "source": [
    "tmx"
   ]
  },
  {
   "cell_type": "code",
   "execution_count": null,
   "id": "e1543ca3-5a9e-4446-a369-dfabf70a2cc4",
   "metadata": {},
   "outputs": [],
   "source": []
  }
 ],
 "metadata": {
  "kernelspec": {
   "display_name": "Python 3 (ipykernel)",
   "language": "python",
   "name": "python3"
  },
  "language_info": {
   "codemirror_mode": {
    "name": "ipython",
    "version": 3
   },
   "file_extension": ".py",
   "mimetype": "text/x-python",
   "name": "python",
   "nbconvert_exporter": "python",
   "pygments_lexer": "ipython3",
   "version": "3.9.5"
  }
 },
 "nbformat": 4,
 "nbformat_minor": 5
}
