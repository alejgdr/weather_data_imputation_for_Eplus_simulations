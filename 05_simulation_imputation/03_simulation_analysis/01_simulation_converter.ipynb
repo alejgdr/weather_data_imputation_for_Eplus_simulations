{
 "cells": [
  {
   "cell_type": "markdown",
   "id": "94e05161",
   "metadata": {},
   "source": [
    "# Check if the data simulation is correct"
   ]
  },
  {
   "cell_type": "code",
   "execution_count": 16,
   "id": "0e7a4357",
   "metadata": {},
   "outputs": [],
   "source": [
    "import pandas as pd\n",
    "import matplotlib.pyplot as plt\n",
    "import numpy as np\n",
    "from dateutil.parser import parse"
   ]
  },
  {
   "cell_type": "code",
   "execution_count": 23,
   "id": "3cbaacfe",
   "metadata": {},
   "outputs": [],
   "source": [
    "path_simulation_to='../02_simulation/edificio_este/run/002_ExportVariabletoCSV 1/report_SiteOutdoorAirDrybulbTemperature_ZoneTimestep.csv' #'../01_data/05_simulation_data/edificio_este/run/002_ExportVariabletoCSV/report_SiteOutdoorAirDrybulbTemperature_ZoneTimestep.csv'\n",
    "path_real='../../01_weather_data/03_imputing_process/01_test_data/tmx_base_2018_solar_angles.csv'\n",
    "path_zma='../02_simulation/edificio_este/run/003_ExportVariabletoCSV 1/report_ZoneMeanAirTemperature_ZoneTimestep.csv'#'../01_data/05_simulation_data/edificio_este/run/003_ExportVariabletoCSV/report_ZoneMeanAirTemperature_ZoneTimestep.csv'\n",
    "exported_simulation_data='simulation_data/cnn_15Nov.csv'#'../01_data/05_simulation_data/01_simulation_csvs/SARIMA_0_1_1_imputation_simulation.csv'\n"
   ]
  },
  {
   "cell_type": "code",
   "execution_count": 24,
   "id": "737cbd34",
   "metadata": {
    "scrolled": true
   },
   "outputs": [
    {
     "data": {
      "text/html": [
       "<div>\n",
       "<style scoped>\n",
       "    .dataframe tbody tr th:only-of-type {\n",
       "        vertical-align: middle;\n",
       "    }\n",
       "\n",
       "    .dataframe tbody tr th {\n",
       "        vertical-align: top;\n",
       "    }\n",
       "\n",
       "    .dataframe thead th {\n",
       "        text-align: right;\n",
       "    }\n",
       "</style>\n",
       "<table border=\"1\" class=\"dataframe\">\n",
       "  <thead>\n",
       "    <tr style=\"text-align: right;\">\n",
       "      <th></th>\n",
       "      <th>to</th>\n",
       "      <th>to</th>\n",
       "    </tr>\n",
       "    <tr>\n",
       "      <th>time</th>\n",
       "      <th></th>\n",
       "      <th></th>\n",
       "    </tr>\n",
       "  </thead>\n",
       "  <tbody>\n",
       "    <tr>\n",
       "      <th>2018-01-01 00:00:00</th>\n",
       "      <td>NaN</td>\n",
       "      <td>18.70</td>\n",
       "    </tr>\n",
       "    <tr>\n",
       "      <th>2018-01-01 00:10:00</th>\n",
       "      <td>19.0</td>\n",
       "      <td>18.95</td>\n",
       "    </tr>\n",
       "    <tr>\n",
       "      <th>2018-01-01 00:20:00</th>\n",
       "      <td>18.9</td>\n",
       "      <td>18.94</td>\n",
       "    </tr>\n",
       "    <tr>\n",
       "      <th>2018-01-01 00:30:00</th>\n",
       "      <td>18.8</td>\n",
       "      <td>18.77</td>\n",
       "    </tr>\n",
       "    <tr>\n",
       "      <th>2018-01-01 00:40:00</th>\n",
       "      <td>18.8</td>\n",
       "      <td>18.81</td>\n",
       "    </tr>\n",
       "  </tbody>\n",
       "</table>\n",
       "</div>"
      ],
      "text/plain": [
       "                       to     to\n",
       "time                            \n",
       "2018-01-01 00:00:00   NaN  18.70\n",
       "2018-01-01 00:10:00  19.0  18.95\n",
       "2018-01-01 00:20:00  18.9  18.94\n",
       "2018-01-01 00:30:00  18.8  18.77\n",
       "2018-01-01 00:40:00  18.8  18.81"
      ]
     },
     "execution_count": 24,
     "metadata": {},
     "output_type": "execute_result"
    }
   ],
   "source": [
    "df_real=pd.read_csv(path_real,index_col=0,parse_dates=True)\n",
    "df_epw=pd.read_csv(path_simulation_to,names=['time','to'],skiprows=1)\n",
    "df_epw.time=pd.to_datetime(df_epw.time,format='%Y-%b-%d %H:%M:%S')\n",
    "# df_epw.time=df_epw.time+pd.Timedelta('12Y')\n",
    "df_epw=df_epw.set_index(df_epw.time)\n",
    "# col_names=list(pd.Series(df.columns).str.replace(':Zone Mean Air Temperature[C]','',regex=False))\n",
    "# df_epw.to_csv('../01_data/05_simulation_data/01_simulation_csvs/t_outside.csv')\n",
    "df_combinado=pd.concat((df_epw.to,df_real.to),axis=1)\n",
    "df_combinado.head()"
   ]
  },
  {
   "cell_type": "code",
   "execution_count": 25,
   "id": "a7db5b67",
   "metadata": {},
   "outputs": [
    {
     "data": {
      "text/plain": [
       "<matplotlib.legend.Legend at 0x2d1471faaf0>"
      ]
     },
     "execution_count": 25,
     "metadata": {},
     "output_type": "execute_result"
    },
    {
     "data": {
      "image/png": "[encoded data removed]",
      "text/plain": [
       "<Figure size 1080x360 with 1 Axes>"
      ]
     },
     "metadata": {
      "needs_background": "light"
     },
     "output_type": "display_data"
    }
   ],
   "source": [
    "dia='2018-01-01 00:00:00'\n",
    "dia2='2018-01-02 10:50:00'\n",
    "fig, ax=plt.subplots(figsize=(15,5))\n",
    "ax.plot(df_epw.to.loc[dia:dia2],'bo',label='epw')\n",
    "ax.plot(df_real.to.loc[dia:parse(dia2)+pd.Timedelta('2H')],'r.',label='datos_reales')\n",
    "ax.legend()"
   ]
  },
  {
   "cell_type": "markdown",
   "id": "8d88d313",
   "metadata": {},
   "source": [
    "## Saves the data to get a csv"
   ]
  },
  {
   "cell_type": "code",
   "execution_count": 26,
   "id": "e2c26106",
   "metadata": {},
   "outputs": [
    {
     "data": {
      "text/plain": [
       "['Zone Timestep',\n",
       " 'N1AU401',\n",
       " 'N1AU402',\n",
       " 'N1AU403',\n",
       " 'N1AU404',\n",
       " 'N2AU101',\n",
       " 'N2AU102',\n",
       " 'N2AU103',\n",
       " 'N2AU201',\n",
       " 'N2AU202',\n",
       " 'N2AU203',\n",
       " 'N2PASILLO',\n",
       " 'N2STR',\n",
       " 'PBADM',\n",
       " 'PBATENCIONCOFI',\n",
       " 'PBCOORCOFI',\n",
       " 'PBCOORDINACION',\n",
       " 'PBDUCTOCOFI',\n",
       " 'PBDUCTOSALAS',\n",
       " 'PBDUCTOSCOM',\n",
       " 'PBIMP',\n",
       " 'PBSCOM',\n",
       " 'PBSJUNTAS',\n",
       " 'PBSMAESTROS',\n",
       " 'PBSTR',\n",
       " 'PBVESTIBULO']"
      ]
     },
     "execution_count": 26,
     "metadata": {},
     "output_type": "execute_result"
    }
   ],
   "source": [
    "df_zma=pd.read_csv(path_zma,skiprows=0)\n",
    "columns=list(pd.Series(df_zma.columns).str.replace(':Zone Mean Air Temperature[C]','',regex=False))\n",
    "# df_zma.time=pd.to_datetime(df_zma.time,format='%Y-%b-%d %H:%M:%S')\n",
    "# df_zma=df_epw.set_index(df_zma.time)\n",
    "columns"
   ]
  },
  {
   "cell_type": "code",
   "execution_count": 27,
   "id": "198177c8",
   "metadata": {},
   "outputs": [],
   "source": [
    "nombres=['tiempo',\n",
    " 'N1AU401',\n",
    " 'N1AU402',\n",
    " 'N1AU403',\n",
    " 'N1AU404',\n",
    " 'N2AU101',\n",
    " 'N2AU102',\n",
    " 'N2AU103',\n",
    " 'N2AU201',\n",
    " 'N2AU202',\n",
    " 'N2AU203',\n",
    " 'N2PASILLO',\n",
    " 'N2STR',\n",
    " 'PBADM',\n",
    " 'PBATENCIONCOFI',\n",
    " 'PBCOORCOFI',\n",
    " 'PBCOORDINACION',\n",
    " 'PBDUCTOCOFI',\n",
    " 'PBDUCTOSALAS',\n",
    " 'PBDUCTOSCOM',\n",
    " 'PBIMP',\n",
    " 'PBSCOM',\n",
    " 'PBSJUNTAS',\n",
    " 'PBSMAESTROS',\n",
    " 'PBSTR',\n",
    " 'PBVESTIBULO']\n",
    "df_zma=pd.read_csv(path_zma,index_col=0,parse_dates=True,names=nombres,skiprows=1)\n",
    "df_zma.to_csv(exported_simulation_data)"
   ]
  },
  {
   "cell_type": "code",
   "execution_count": null,
   "id": "8eba4072-bbff-40c9-8409-514d5d96fe9e",
   "metadata": {},
   "outputs": [],
   "source": []
  }
 ],
 "metadata": {
  "kernelspec": {
   "display_name": "Python 3",
   "language": "python",
   "name": "python3"
  },
  "language_info": {
   "codemirror_mode": {
    "name": "ipython",
    "version": 3
   },
   "file_extension": ".py",
   "mimetype": "text/x-python",
   "name": "python",
   "nbconvert_exporter": "python",
   "pygments_lexer": "ipython3",
   "version": "3.9.7"
  }
 },
 "nbformat": 4,
 "nbformat_minor": 5
}
